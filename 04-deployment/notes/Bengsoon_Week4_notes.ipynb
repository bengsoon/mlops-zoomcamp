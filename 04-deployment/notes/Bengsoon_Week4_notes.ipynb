{
 "cells": [
  {
   "cell_type": "markdown",
   "metadata": {},
   "source": [
    "# MLOps ZoomCamp Week 4 Notes "
   ]
  },
  {
   "cell_type": "markdown",
   "metadata": {},
   "source": [
    "## Video 4.1"
   ]
  },
  {
   "cell_type": "markdown",
   "metadata": {},
   "source": [
    "To recap what we have done so far:\n",
    "\n",
    "![](./imgs/01_Recap.png)\n",
    "\n",
    "This week we are going to do the \"***OPERATIONAL***\" phase where we are going to deploy our models"
   ]
  },
  {
   "cell_type": "markdown",
   "metadata": {},
   "source": [
    "### Deployment\n",
    "\n",
    "![](./imgs/07_deployment_options.png)\n",
    "\n",
    "Two main types of deployment\n",
    "1. Batch Deployment:\n",
    "    - Don't need the predictions all the time\n",
    "    - \"Offline\"\n",
    "    - Runs at regular intervals: every hour, every day, every week?\n",
    "    - Model is not up and running all the time\n",
    "2. Online Deployment:\n",
    "    - Running all the time\n",
    "    - Two types\n",
    "        - Web service: http request\n",
    "        - Streaming: Listening and reacting to the events\n",
    "\n"
   ]
  },
  {
   "cell_type": "markdown",
   "metadata": {},
   "source": [
    "#### Batch\n",
    "\n",
    "![](./imgs/02_batch.png)\n",
    "\n",
    "In the example above, we:\n",
    "- Run batch prediction DAILY\n",
    "- Obtain data from yesterday from a database\n",
    "- Save the prediction results into a database\n",
    "- Results get consumed as a report\n",
    "\n",
    "Common use case: Marketing related tasks"
   ]
  },
  {
   "cell_type": "markdown",
   "metadata": {},
   "source": [
    "***Churn in Marketing***\n",
    "\n",
    "![](./imgs/03_batch_marketing_churcn.png)\n",
    "\n",
    "- Say we have a taxi app and we have our user base.\n",
    "- Then came a competitor named \"Uber\" and our users start to move away from our app as they're enticed by Uber's marketing. This is called \"churcn\".\n",
    "- So we decided to create a churcn model. This model does not need to be streamed, but rather we use the data available daily.\n",
    "    - We get our customer data along with the churn scoring job as the target, make a model and run predictions on whether or not each customer will \"churn\".\n",
    "    - The results of the model gets passed to the Marketing department and they use it to target the potential customers who are predicted to \"churn\".  "
   ]
  },
  {
   "cell_type": "markdown",
   "metadata": {},
   "source": [
    "### Web Service\n",
    "\n",
    "![](./imgs/04_stream_web_service.png)\n",
    "\n",
    "- Say we have the same taxi app but the users wanted to find out the \"Ride Duration\" for the taxi that they're hiring.\n",
    "- So the users will interact with the app and the app interacts with the backend, the backend then communicates with our \"Ride Duration Web Service\" to get the predicted ride duration for the particular user's destination.\n",
    "    - It is a 1 to 1 (1x1) client-server relationship (as opposed to streaming)"
   ]
  },
  {
   "cell_type": "markdown",
   "metadata": {},
   "source": [
    "### Streaming\n",
    "\n",
    "![](./imgs/05_Streaming_1xN.png)\n",
    "- 1xN (One to many) client-server relationship\n",
    "- Can also be NxN (many to many)\n",
    "- User hires a taxi, starts a ride\n",
    "- The Backend (producer) pushes an event saying \"Ride has started\".\n",
    "- Because of the \"Ride has started\", it triggers many services altogether, for example:\n",
    "    - Tip prediction: Model that predicts how much tip to be paid for that particular ride\n",
    "    - A more accurate and real-time duration prediction (this may be different from previous web service for Duration Prediction, which could be less accurate)\n",
    "- The Backend (producer) does not have explicit relatinoships with the downstream services, it just pushes for the event \"Ride has started\".\n",
    "- However, we know that implicitly there will be some services that will be reading from this event stream and reacting to it.\n",
    "- Similarly, all the services are independent from each other."
   ]
  },
  {
   "cell_type": "markdown",
   "metadata": {},
   "source": [
    "#### A good case for Streaming\n",
    "\n",
    "***Potential Youtube Content Filtering System***\n",
    "\n",
    "![](./imgs/06_streaming_youtube_example.png)\n",
    "\n",
    "- User uploads a video to Youtube\n",
    "- Backend (producer) pushes an event and triggers a bunch of midstream services such as:\n",
    "    - Copyright Violation\n",
    "    - Inappropriate content (NSFW)\n",
    "    - Violence\n",
    "    - Etc\n",
    "- These services will evaluate the video for any violations and will push their individual results downstream which will then be processed by \"Decision Service\" (DS)\n",
    "- DS, upon receiving results from these midstream services, will decide whether to upload or remove the video\n",
    "- The midstream services are scalable where we can add more services as needed\n",
    "\n",
    "\n",
    "\n",
    "Another potential streaming services is a **recommendation systems** "
   ]
  },
  {
   "cell_type": "markdown",
   "metadata": {},
   "source": [
    "## Video 4.2"
   ]
  },
  {
   "cell_type": "markdown",
   "metadata": {},
   "source": [
    "From Video 1, we trained a model in a notebook and saved the artifact as a pickle file:\n",
    "\n",
    "``` python\n",
    "    with open('models/lin_reg.bin', 'wb') as f_out:\n",
    "        pickle.dump((dv, lr), f_out)\n",
    "```"
   ]
  },
  {
   "cell_type": "markdown",
   "metadata": {},
   "source": [
    "This video will follow exactly the same workflow as [ML ZoomCamp's Module 5 - Deployment](https://github.com/alexeygrigorev/mlbookcamp-code/tree/master/course-zoomcamp/05-deployment):\n",
    "- Create a Virtual Environment\n",
    "- Create a script for prediction\n",
    "- Serving the prediction script with Flask app \n",
    "- Packaging the app into Docker"
   ]
  },
  {
   "cell_type": "markdown",
   "metadata": {},
   "source": [
    "The model artifact / pickle has already been copied in the [`web-service`](./web-service) folder."
   ]
  },
  {
   "cell_type": "markdown",
   "metadata": {},
   "source": []
  }
 ],
 "metadata": {
  "language_info": {
   "name": "python"
  },
  "orig_nbformat": 4
 },
 "nbformat": 4,
 "nbformat_minor": 2
}
