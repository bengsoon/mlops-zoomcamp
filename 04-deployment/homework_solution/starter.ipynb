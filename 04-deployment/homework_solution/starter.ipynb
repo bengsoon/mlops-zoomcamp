{
 "cells": [
  {
   "cell_type": "code",
   "execution_count": 19,
   "id": "51b5d5d8",
   "metadata": {},
   "outputs": [],
   "source": [
    "import sklearn"
   ]
  },
  {
   "cell_type": "code",
   "execution_count": 20,
   "id": "b9e96255",
   "metadata": {},
   "outputs": [
    {
     "data": {
      "text/plain": [
       "'1.0.2'"
      ]
     },
     "execution_count": 20,
     "metadata": {},
     "output_type": "execute_result"
    }
   ],
   "source": [
    "sklearn.__version__"
   ]
  },
  {
   "cell_type": "code",
   "execution_count": 3,
   "id": "0ef880a0",
   "metadata": {},
   "outputs": [],
   "source": [
    "import pickle\n",
    "import pandas as pd"
   ]
  },
  {
   "cell_type": "code",
   "execution_count": 22,
   "id": "31f1a167",
   "metadata": {},
   "outputs": [
    {
     "data": {
      "text/plain": [
       "'1.4.2'"
      ]
     },
     "execution_count": 22,
     "metadata": {},
     "output_type": "execute_result"
    }
   ],
   "source": [
    "pd.__version__"
   ]
  },
  {
   "cell_type": "code",
   "execution_count": 4,
   "id": "7836ccfd",
   "metadata": {},
   "outputs": [],
   "source": [
    "with open('model.bin', 'rb') as f_in:\n",
    "    dv, lr = pickle.load(f_in)"
   ]
  },
  {
   "cell_type": "markdown",
   "id": "f6815a29",
   "metadata": {},
   "source": [
    "## Question 1:\n",
    "\n",
    "Run this notebook for the February 2021 FVH data."
   ]
  },
  {
   "cell_type": "code",
   "execution_count": 5,
   "id": "41c08294",
   "metadata": {},
   "outputs": [],
   "source": [
    "categorical = ['PUlocationID', 'DOlocationID']\n",
    "\n",
    "def read_data(filename):\n",
    "    df = pd.read_parquet(filename)\n",
    "    \n",
    "    df['duration'] = df.dropOff_datetime - df.pickup_datetime\n",
    "    df['duration'] = df.duration.dt.total_seconds() / 60\n",
    "\n",
    "    df = df[(df.duration >= 1) & (df.duration <= 60)].copy()\n",
    "\n",
    "    df[categorical] = df[categorical].fillna(-1).astype('int').astype('str')\n",
    "    \n",
    "    return df"
   ]
  },
  {
   "cell_type": "code",
   "execution_count": 6,
   "id": "4854399a",
   "metadata": {},
   "outputs": [],
   "source": [
    "df = read_data('https://nyc-tlc.s3.amazonaws.com/trip+data/fhv_tripdata_2021-02.parquet')"
   ]
  },
  {
   "cell_type": "code",
   "execution_count": 9,
   "id": "669fda0a",
   "metadata": {},
   "outputs": [],
   "source": [
    "dicts = df[categorical].to_dict(orient='records')\n",
    "X_val = dv.transform(dicts)\n",
    "y_pred = lr.predict(X_val)"
   ]
  },
  {
   "cell_type": "code",
   "execution_count": 10,
   "id": "8857f831",
   "metadata": {},
   "outputs": [
    {
     "data": {
      "text/plain": [
       "16.191691679979066"
      ]
     },
     "execution_count": 10,
     "metadata": {},
     "output_type": "execute_result"
    }
   ],
   "source": [
    "y_pred.mean()"
   ]
  },
  {
   "cell_type": "markdown",
   "id": "34783ab5",
   "metadata": {},
   "source": [
    "What's the mean predicted duration for this dataset?\n",
    "\n",
    "    11.19\n",
    "    16.19\n",
    "    21.19\n",
    "    26.19\n",
    "\n",
    "> **ANSWER:** 16.19"
   ]
  },
  {
   "cell_type": "markdown",
   "id": "da1dc4e3",
   "metadata": {},
   "source": [
    "## Q2. Preparing the output\n",
    "Like in the course videos, we want to prepare the dataframe with the output.\n",
    "\n",
    "First, let's create an artificial `ride_id` column:\n",
    "\n",
    "```py\n",
    "    df['ride_id'] = f'{year:04d}/{month:02d}_' + df.index.astype('str')\n",
    "```\n",
    "\n",
    "Next, **write the ride id** and the **predictions to a dataframe with results**.\n",
    "\n",
    "Save it as parquet:\n",
    "``` py\n",
    "    df_result.to_parquet(\n",
    "        output_file,\n",
    "        engine='pyarrow',\n",
    "        compression=None,\n",
    "        index=False\n",
    "    )\n",
    "```\n",
    "\n",
    "What's the size of the output file?\n",
    "\n",
    "- 9M\n",
    "- 19M\n",
    "- 29M\n",
    "- 39M\n",
    "\n",
    "Make sure you use the snippet above for saving the file. It should contain only these two columns. For this question, don't change the dtypes of the columns and use pyarrow, not fastparquet."
   ]
  },
  {
   "cell_type": "code",
   "execution_count": 11,
   "id": "2931e108",
   "metadata": {},
   "outputs": [
    {
     "data": {
      "text/html": [
       "<div>\n",
       "<style scoped>\n",
       "    .dataframe tbody tr th:only-of-type {\n",
       "        vertical-align: middle;\n",
       "    }\n",
       "\n",
       "    .dataframe tbody tr th {\n",
       "        vertical-align: top;\n",
       "    }\n",
       "\n",
       "    .dataframe thead th {\n",
       "        text-align: right;\n",
       "    }\n",
       "</style>\n",
       "<table border=\"1\" class=\"dataframe\">\n",
       "  <thead>\n",
       "    <tr style=\"text-align: right;\">\n",
       "      <th></th>\n",
       "      <th>dispatching_base_num</th>\n",
       "      <th>pickup_datetime</th>\n",
       "      <th>dropOff_datetime</th>\n",
       "      <th>PUlocationID</th>\n",
       "      <th>DOlocationID</th>\n",
       "      <th>SR_Flag</th>\n",
       "      <th>Affiliated_base_number</th>\n",
       "      <th>duration</th>\n",
       "    </tr>\n",
       "  </thead>\n",
       "  <tbody>\n",
       "    <tr>\n",
       "      <th>1</th>\n",
       "      <td>B00021</td>\n",
       "      <td>2021-02-01 00:55:40</td>\n",
       "      <td>2021-02-01 01:06:20</td>\n",
       "      <td>173</td>\n",
       "      <td>82</td>\n",
       "      <td>None</td>\n",
       "      <td>B00021</td>\n",
       "      <td>10.666667</td>\n",
       "    </tr>\n",
       "    <tr>\n",
       "      <th>2</th>\n",
       "      <td>B00021</td>\n",
       "      <td>2021-02-01 00:14:03</td>\n",
       "      <td>2021-02-01 00:28:37</td>\n",
       "      <td>173</td>\n",
       "      <td>56</td>\n",
       "      <td>None</td>\n",
       "      <td>B00021</td>\n",
       "      <td>14.566667</td>\n",
       "    </tr>\n",
       "    <tr>\n",
       "      <th>3</th>\n",
       "      <td>B00021</td>\n",
       "      <td>2021-02-01 00:27:48</td>\n",
       "      <td>2021-02-01 00:35:45</td>\n",
       "      <td>82</td>\n",
       "      <td>129</td>\n",
       "      <td>None</td>\n",
       "      <td>B00021</td>\n",
       "      <td>7.950000</td>\n",
       "    </tr>\n",
       "    <tr>\n",
       "      <th>4</th>\n",
       "      <td>B00037</td>\n",
       "      <td>2021-02-01 00:12:50</td>\n",
       "      <td>2021-02-01 00:26:38</td>\n",
       "      <td>-1</td>\n",
       "      <td>225</td>\n",
       "      <td>None</td>\n",
       "      <td>B00037</td>\n",
       "      <td>13.800000</td>\n",
       "    </tr>\n",
       "    <tr>\n",
       "      <th>5</th>\n",
       "      <td>B00037</td>\n",
       "      <td>2021-02-01 00:00:37</td>\n",
       "      <td>2021-02-01 00:09:35</td>\n",
       "      <td>-1</td>\n",
       "      <td>61</td>\n",
       "      <td>None</td>\n",
       "      <td>B00037</td>\n",
       "      <td>8.966667</td>\n",
       "    </tr>\n",
       "  </tbody>\n",
       "</table>\n",
       "</div>"
      ],
      "text/plain": [
       "  dispatching_base_num     pickup_datetime    dropOff_datetime PUlocationID  \\\n",
       "1      B00021          2021-02-01 00:55:40 2021-02-01 01:06:20          173   \n",
       "2      B00021          2021-02-01 00:14:03 2021-02-01 00:28:37          173   \n",
       "3      B00021          2021-02-01 00:27:48 2021-02-01 00:35:45           82   \n",
       "4               B00037 2021-02-01 00:12:50 2021-02-01 00:26:38           -1   \n",
       "5               B00037 2021-02-01 00:00:37 2021-02-01 00:09:35           -1   \n",
       "\n",
       "  DOlocationID SR_Flag Affiliated_base_number   duration  \n",
       "1           82    None        B00021           10.666667  \n",
       "2           56    None        B00021           14.566667  \n",
       "3          129    None        B00021            7.950000  \n",
       "4          225    None                 B00037  13.800000  \n",
       "5           61    None                 B00037   8.966667  "
      ]
     },
     "execution_count": 11,
     "metadata": {},
     "output_type": "execute_result"
    }
   ],
   "source": [
    "df.head()"
   ]
  },
  {
   "cell_type": "markdown",
   "id": "ad05cd63",
   "metadata": {},
   "source": [
    "We will take the `pickup_datetime` as the `ride_id`'s `year` and `month`"
   ]
  },
  {
   "cell_type": "code",
   "execution_count": 12,
   "id": "6988dada",
   "metadata": {},
   "outputs": [
    {
     "name": "stderr",
     "output_type": "stream",
     "text": [
      "/tmp/ipykernel_19299/1226148725.py:1: FutureWarning: Treating datetime data as categorical rather than numeric in `.describe` is deprecated and will be removed in a future version of pandas. Specify `datetime_is_numeric=True` to silence this warning and adopt the future behavior now.\n",
      "  df[\"pickup_datetime\"].describe()\n"
     ]
    },
    {
     "data": {
      "text/plain": [
       "count                  990113\n",
       "unique                 699320\n",
       "top       2021-02-24 08:00:00\n",
       "freq                       83\n",
       "first     2021-02-01 00:00:23\n",
       "last      2021-02-28 23:59:55\n",
       "Name: pickup_datetime, dtype: object"
      ]
     },
     "execution_count": 12,
     "metadata": {},
     "output_type": "execute_result"
    }
   ],
   "source": [
    "df[\"pickup_datetime\"].describe()"
   ]
  },
  {
   "cell_type": "code",
   "execution_count": 13,
   "id": "c485247a",
   "metadata": {},
   "outputs": [],
   "source": [
    "year = df[\"pickup_datetime\"].dt.year.astype('int').values[0]\n",
    "month = df[\"pickup_datetime\"].dt.month.astype('int').values[0]\n",
    "\n",
    "df['ride_id'] = f'{year:04d}/{month:02d}_' + df.index.astype('str')"
   ]
  },
  {
   "cell_type": "code",
   "execution_count": 14,
   "id": "05ed8667",
   "metadata": {},
   "outputs": [
    {
     "data": {
      "text/plain": [
       "1                2021/02_1\n",
       "2                2021/02_2\n",
       "3                2021/02_3\n",
       "4                2021/02_4\n",
       "5                2021/02_5\n",
       "                ...       \n",
       "1037687    2021/02_1037687\n",
       "1037688    2021/02_1037688\n",
       "1037689    2021/02_1037689\n",
       "1037690    2021/02_1037690\n",
       "1037691    2021/02_1037691\n",
       "Name: ride_id, Length: 990113, dtype: object"
      ]
     },
     "execution_count": 14,
     "metadata": {},
     "output_type": "execute_result"
    }
   ],
   "source": [
    "df[\"ride_id\"]"
   ]
  },
  {
   "cell_type": "code",
   "execution_count": 15,
   "id": "6b968aba",
   "metadata": {},
   "outputs": [],
   "source": [
    "df_result = pd.DataFrame()\n",
    "df_result[\"ride_id\"] = df[\"ride_id\"]\n",
    "df_result[\"predictions\"] = y_pred"
   ]
  },
  {
   "cell_type": "code",
   "execution_count": 75,
   "id": "953cca72",
   "metadata": {},
   "outputs": [
    {
     "name": "stdout",
     "output_type": "stream",
     "text": [
      "Requirement already satisfied: pyarrow in /home/bengsoon/anaconda3/envs/mlops_zoomcamp/lib/python3.9/site-packages (4.0.1)\n",
      "Requirement already satisfied: numpy>=1.16.6 in /home/bengsoon/anaconda3/envs/mlops_zoomcamp/lib/python3.9/site-packages (from pyarrow) (1.21.5)\n"
     ]
    }
   ],
   "source": [
    "!pip install pyarrow"
   ]
  },
  {
   "cell_type": "code",
   "execution_count": 16,
   "id": "b8d5160a",
   "metadata": {},
   "outputs": [],
   "source": [
    "taxi_type = \"fvh\"\n",
    "output_file = f\"{taxi_type}-{year}-{month}_prediction.parquet\"\n",
    "\n",
    "df_result.to_parquet(\n",
    "    output_file,\n",
    "    engine='pyarrow',\n",
    "    compression=None,\n",
    "    index=False\n",
    ")"
   ]
  },
  {
   "cell_type": "code",
   "execution_count": 18,
   "id": "f19de24c",
   "metadata": {},
   "outputs": [
    {
     "name": "stdout",
     "output_type": "stream",
     "text": [
      "total 19252\n",
      "drwxrwxrwx 1 bengsoon bengsoon      512 Jun 27 09:54 .\n",
      "drwxrwxrwx 1 bengsoon bengsoon      512 Jun 27 22:28 ..\n",
      "-rwxrwxrwx 1 bengsoon bengsoon 19711443 Jun 27 09:54 fvh_2021_02_prediction.parquet\n"
     ]
    }
   ],
   "source": [
    "!ls -la ./output"
   ]
  },
  {
   "cell_type": "markdown",
   "id": "671a433f",
   "metadata": {},
   "source": [
    "> **ANSWER:** 19.7 MB"
   ]
  },
  {
   "cell_type": "markdown",
   "id": "50ead884",
   "metadata": {},
   "source": [
    "## Q4. Virtual environment\n",
    "Now let's put everything into a virtual environment. We'll use pipenv for that.\n",
    "\n",
    "Install all the required libraries. Pay attention to the Scikit-Learn version: check the starter notebook for details.\n",
    "\n",
    "After installing the libraries, pipenv creates two files: Pipfile and Pipfile.lock. The Pipfile.lock file keeps the hashes of the dependencies we use for the virtual env.\n",
    "\n",
    "What's the first hash for the Scikit-Learn dependency?"
   ]
  },
  {
   "cell_type": "code",
   "execution_count": 24,
   "id": "4229d4b9",
   "metadata": {},
   "outputs": [
    {
     "name": "stdout",
     "output_type": "stream",
     "text": [
      "Dockerfile  Pipfile  Pipfile.lock  model.bin  output  predict.py  starter.ipynb\n"
     ]
    }
   ],
   "source": [
    "!ls"
   ]
  },
  {
   "cell_type": "markdown",
   "id": "7db8b374",
   "metadata": {},
   "source": [
    "> **ANSWER:** sha256:08ef968f6b72033c16c479c966bf37ccd49b06ea91b765e1cc27afefe723920b"
   ]
  },
  {
   "cell_type": "markdown",
   "id": "61b8ed0b",
   "metadata": {},
   "source": [
    "## Q5. Parametrize the script\n",
    "Let's now make the script configurable via CLI. We'll create two parameters: year and month.\n",
    "\n",
    "Run the script for March 2021.\n",
    "\n",
    "What's the mean predicted duration?\n",
    "\n",
    "- 11.29\n",
    "- 16.29\n",
    "- 21.29\n",
    "- 26.29\n",
    "Hint: just add a print statement to your script."
   ]
  },
  {
   "cell_type": "code",
   "execution_count": 27,
   "id": "cc6a2fd7",
   "metadata": {},
   "outputs": [
    {
     "name": "stdout",
     "output_type": "stream",
     "text": [
      "#!/usr/bin/env python\n",
      "# coding: utf-8\n",
      "\n",
      "import pickle\n",
      "import pandas as pd\n",
      "import click\n",
      "\n",
      "\n",
      "with open('model.bin', 'rb') as f_in:\n",
      "    dv, lr = pickle.load(f_in)\n",
      "    \n",
      "\n",
      "def read_data(filename):\n",
      "    print(f\"Reading data from {filename}\")\n",
      "    categorical = ['PUlocationID', 'DOlocationID']\n",
      "    df = pd.read_parquet(filename)\n",
      "    \n",
      "    df['duration'] = df.dropOff_datetime - df.pickup_datetime\n",
      "    df['duration'] = df.duration.dt.total_seconds() / 60\n",
      "\n",
      "    df = df[(df.duration >= 1) & (df.duration <= 60)].copy()\n",
      "\n",
      "    df[categorical] = df[categorical].fillna(-1).astype('int').astype('str')\n",
      "\n",
      "    dicts = df[categorical].to_dict(orient='records')\n",
      "    \n",
      "    return df, dicts\n",
      "\n",
      "def save_prediction(df, y_pred):\n",
      "    year = df[\"pickup_datetime\"].dt.year.astype('int').values[0]\n",
      "    month = df[\"pickup_datetime\"].dt.month.astype('int').values[0]\n",
      "\n",
      "    df['ride_id'] = f'{year:04d}/{month:02d}_' + df.index.astype('str')\n",
      "\n",
      "    print(f\"Generating dataframe from prediction with ride-id\")\n",
      "    df_result = pd.DataFrame()\n",
      "    df_result[\"ride_id\"] = df[\"ride_id\"]\n",
      "    df_result[\"predictions\"] = y_pred\n",
      "\n",
      "    taxi_type = \"fvh\"\n",
      "    output_file = f\"output/{taxi_type}-{year}-{month}_prediction.parquet\"\n",
      "\n",
      "    print(f\"Saving prediction output to {output_file}\")\n",
      "    df_result.to_parquet(\n",
      "        output_file,\n",
      "        engine='pyarrow',\n",
      "        compression=None,\n",
      "        index=False\n",
      "    )\n",
      "\n",
      "\n",
      "@click.command()\n",
      "@click.option('--year', default=2021, help='Year of the taxi data')\n",
      "@click.option('--month', default=3, help='Month of the taxi data')\n",
      "def predict(year, month):\n",
      "    file = f'https://nyc-tlc.s3.amazonaws.com/trip+data/fhv_tripdata_{year:04d}-{month:02d}.parquet'\n",
      "\n",
      "    df, dicts = read_data(file)\n",
      "\n",
      "    print(\"Making prediction\")\n",
      "    X_val = dv.transform(dicts)\n",
      "    y_pred = lr.predict(X_val)\n",
      "    print(\"Prediction Mean:\", y_pred.mean())\n",
      "\n",
      "    save_prediction(df, y_pred)\n",
      "\n",
      "\n",
      "if __name__ == \"__main__\":\n",
      "    predict()"
     ]
    }
   ],
   "source": [
    "!cat predict.py"
   ]
  },
  {
   "cell_type": "code",
   "execution_count": 33,
   "id": "2e67a54e",
   "metadata": {},
   "outputs": [
    {
     "name": "stdout",
     "output_type": "stream",
     "text": [
      "Generating dataframe from prediction with ride-id\n",
      "Saving prediction output to output/fvh-2021-3_prediction.parquet\n",
      "Reading data from https://nyc-tlc.s3.amazonaws.com/trip+data/fhv_tripdata_2021-03.parquet\n",
      "Making prediction\n",
      "Prediction Mean: 16.298821614015107\n",
      "Generating dataframe from prediction with ride-id\n",
      "Saving prediction output to output/fvh-2021-3_prediction.parquet\n"
     ]
    }
   ],
   "source": [
    "%%bash\n",
    "python predict.py --year 2021 --month 3"
   ]
  },
  {
   "cell_type": "markdown",
   "id": "2e48dd17",
   "metadata": {},
   "source": [
    "> **ANSWER:** 16.2988"
   ]
  },
  {
   "cell_type": "markdown",
   "id": "055eaee7",
   "metadata": {},
   "source": [
    "## Question 5:\n",
    "\n",
    "Now run the script with docker. What's the mean predicted duration for April 2021?\n",
    "\n",
    "- 9.96\n",
    "- 16.55\n",
    "- 25.96\n",
    "- 36.55"
   ]
  },
  {
   "cell_type": "code",
   "execution_count": 34,
   "id": "3edb3aca",
   "metadata": {},
   "outputs": [
    {
     "name": "stdout",
     "output_type": "stream",
     "text": [
      "FROM agrigorev/zoomcamp-model:mlops-3.9.7-slim\n",
      "\n",
      "RUN pip install -U pip\n",
      "RUN pip install pipenv\n",
      "\n",
      "WORKDIR /app\n",
      "\n",
      "COPY [ \"Pipfile\", \"Pipfile.lock\", \"./\" ]\n",
      "\n",
      "RUN pipenv install --system --deploy\n",
      "\n",
      "COPY [ \"predict.py\", \"./\" ]\n",
      "\n",
      "\n",
      "\n",
      "ENTRYPOINT [\"python\", \"predict.py\", \"--year\", \"2021\", \"--month\", \"4\"]"
     ]
    }
   ],
   "source": [
    "!cat Dockerfile"
   ]
  },
  {
   "cell_type": "markdown",
   "id": "10a1c90f",
   "metadata": {},
   "source": [
    "I've already built the Docker image locally under the tag name `ride-duration-prediction:v1`. I will just run it here"
   ]
  },
  {
   "cell_type": "code",
   "execution_count": 35,
   "id": "906a231b",
   "metadata": {},
   "outputs": [
    {
     "name": "stdout",
     "output_type": "stream",
     "text": [
      "Reading data from https://nyc-tlc.s3.amazonaws.com/trip+data/fhv_tripdata_2021-04.parquet\n",
      "Making prediction\n",
      "Prediction Mean: 9.967573179784523\n"
     ]
    }
   ],
   "source": [
    "!docker run ride-duration-prediction:v1"
   ]
  },
  {
   "cell_type": "markdown",
   "id": "0d2161a1",
   "metadata": {},
   "source": [
    "> **ANSWER:** 9.96"
   ]
  }
 ],
 "metadata": {
  "kernelspec": {
   "display_name": "Python 3.9.7 ('mlops_zoomcamp')",
   "language": "python",
   "name": "python3"
  },
  "language_info": {
   "codemirror_mode": {
    "name": "ipython",
    "version": 3
   },
   "file_extension": ".py",
   "mimetype": "text/x-python",
   "name": "python",
   "nbconvert_exporter": "python",
   "pygments_lexer": "ipython3",
   "version": "3.9.7"
  },
  "vscode": {
   "interpreter": {
    "hash": "a4be0d6704ea3b8629c512f204a52999524973bc22e944393af60bd9a001eb90"
   }
  }
 },
 "nbformat": 4,
 "nbformat_minor": 5
}
