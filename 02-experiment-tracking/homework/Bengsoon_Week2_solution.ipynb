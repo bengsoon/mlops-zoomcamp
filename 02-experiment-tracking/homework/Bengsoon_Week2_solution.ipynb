{
 "cells": [
  {
   "cell_type": "markdown",
   "metadata": {},
   "source": [
    "# Week 2 Homework Solution"
   ]
  },
  {
   "cell_type": "markdown",
   "metadata": {},
   "source": [
    "## Q1. Install MLflow\n",
    "\n",
    "To get started with MLflow you'll need to install the MLflow Python package.\n",
    "\n",
    "For this we recommend creating a separate Python environment, for example, you can use conda environments, and then install the package there with pip or conda.\n",
    "\n",
    "Once you installed the package, run the command mlflow --version and check the output.\n",
    "\n",
    "What's the version that you have?"
   ]
  },
  {
   "cell_type": "code",
   "execution_count": 1,
   "metadata": {},
   "outputs": [
    {
     "name": "stdout",
     "output_type": "stream",
     "text": [
      "mlflow, version 1.26.0\n"
     ]
    }
   ],
   "source": [
    "!mlflow --version"
   ]
  },
  {
   "cell_type": "markdown",
   "metadata": {},
   "source": [
    "#### Answer\n",
    "> MLflow version: **1.26.0**"
   ]
  },
  {
   "cell_type": "markdown",
   "metadata": {},
   "source": [
    "## Q2. Download and preprocess the data\n",
    "\n",
    "We'll use the Green Taxi Trip Records dataset. \n",
    "\n",
    "Download the data for January, February and March 2021 in parquet format from [here](https://www1.nyc.gov/site/tlc/about/tlc-trip-record-data.page).\n",
    "\n",
    "Use the script `preprocess_data.py` located in the folder [`homework`](https://github.com/DataTalksClub/mlops-zoomcamp/tree/main/02-experiment-tracking/homework) to preprocess the data.\n",
    "\n",
    "The script will\n",
    "\n",
    "- load the data from the folder `<TAXI_DATA_FOLDER>` (the folder where you have downloaded the data),\n",
    "- fit a `DictVectorizer` on the training set (January 2021 data),\n",
    "- save the preprocessed datasets and the model to disk\n",
    "\n",
    "Your task is to download the datasets and then execute this command:\n",
    "\n",
    "```\n",
    "python preprocess_data.py --raw_data_path <TAXI_DATA_FOLDER> --dest_path ./output\n",
    "```\n",
    "\n",
    "Tip: go to `02-experiment-tracking/homework/` folder before executing the command and change the value of `<TAXI_DATA_FOLDER>` to the location where you saved the data.\n",
    "\n",
    "How many files were saved to `OUTPUT_FOLDER`?\n",
    "\n",
    "* 1\n",
    "* 3\n",
    "* 4\n",
    "* 7"
   ]
  },
  {
   "cell_type": "code",
   "execution_count": 36,
   "metadata": {},
   "outputs": [
    {
     "name": "stdout",
     "output_type": "stream",
     "text": [
      "--2022-06-02 09:24:13--  https://s3.amazonaws.com/nyc-tlc/trip+data/green_tripdata_2021-01.parquet\n",
      "Connecting to 192.9.200.39:80... connected.\n",
      "Proxy request sent, awaiting response... 200 OK\n",
      "Length: 1333519 (1.3M) [binary/octet-stream]\n",
      "Saving to: ‘./data/green_tripdata_2021-01.parquet.1’\n",
      "\n",
      "green_tripdata_2021 100%[===================>]   1.27M   144KB/s    in 16s     \n",
      "\n",
      "2022-06-02 09:24:32 (84.0 KB/s) - ‘./data/green_tripdata_2021-01.parquet.1’ saved [1333519/1333519]\n",
      "\n",
      "--2022-06-02 09:24:32--  https://s3.amazonaws.com/nyc-tlc/trip+data/green_tripdata_2021-02.parquet\n",
      "Connecting to 192.9.200.39:80... connected.\n",
      "Proxy request sent, awaiting response... 200 OK\n",
      "Length: 1145679 (1.1M) [binary/octet-stream]\n",
      "Saving to: ‘./data/green_tripdata_2021-02.parquet.1’\n",
      "\n",
      "green_tripdata_2021 100%[===================>]   1.09M   152KB/s    in 9.8s    \n",
      "\n",
      "2022-06-02 09:24:43 (114 KB/s) - ‘./data/green_tripdata_2021-02.parquet.1’ saved [1145679/1145679]\n",
      "\n",
      "--2022-06-02 09:24:43--  https://s3.amazonaws.com/nyc-tlc/trip+data/green_tripdata_2021-03.parquet\n",
      "Connecting to 192.9.200.39:80... connected.\n",
      "Proxy request sent, awaiting response... 200 OK\n",
      "Length: 1474538 (1.4M) [binary/octet-stream]\n",
      "Saving to: ‘./data/green_tripdata_2021-03.parquet.1’\n",
      "\n",
      "green_tripdata_2021 100%[===================>]   1.41M   492KB/s    in 2.9s    \n",
      "\n",
      "2022-06-02 09:24:47 (492 KB/s) - ‘./data/green_tripdata_2021-03.parquet.1’ saved [1474538/1474538]\n",
      "\n"
     ]
    }
   ],
   "source": [
    "# Get Jan - Mar 2021 Green Taxi data\n",
    "\n",
    "!wget https://s3.amazonaws.com/nyc-tlc/trip+data/green_tripdata_2021-01.parquet -P ./data\n",
    "!wget https://s3.amazonaws.com/nyc-tlc/trip+data/green_tripdata_2021-02.parquet -P ./data\n",
    "!wget https://s3.amazonaws.com/nyc-tlc/trip+data/green_tripdata_2021-03.parquet -P ./data"
   ]
  },
  {
   "cell_type": "code",
   "execution_count": 7,
   "metadata": {},
   "outputs": [],
   "source": [
    "!python preprocess_data.py --raw_data_path ./data --dest_path ./output"
   ]
  },
  {
   "cell_type": "code",
   "execution_count": 8,
   "metadata": {},
   "outputs": [
    {
     "name": "stdout",
     "output_type": "stream",
     "text": [
      "dv.pkl\ttest.pkl  train.pkl  valid.pkl\n"
     ]
    }
   ],
   "source": [
    "!ls ./output"
   ]
  },
  {
   "cell_type": "markdown",
   "metadata": {},
   "source": [
    "#### Answer\n",
    "> **4 files** are in the `OUTPUT_FOLDER`"
   ]
  },
  {
   "cell_type": "markdown",
   "metadata": {},
   "source": [
    "## Q3. Train a model with autolog\n",
    "\n",
    "We will train a random forest regressor (from Scikit-Learn) on the taxi dataset.\n",
    "\n",
    "We have prepared the training script `train.py` for this exercise, which can be also found in the folder `homework`. The script will load the datasets produced by the previous step, train the model on the training set and finally calculate the RMSE on the validation set.\n",
    "\n",
    "Your task is to modify the script to enable **autologging** with MLflow, execute the script and then launch the MLflow UI to check that the experiment run was properly tracked. \n",
    "\n",
    "Tip 1: don't forget to wrap the training code with a `with mlflow.start_run():` statement as we showed in the videos.\n",
    "\n",
    "Tip 2: don't modify the hyperparameters of the model to make sure that the training will finish quickly.\n",
    "\n",
    "How many parameters are automatically logged by MLflow?\n",
    "\n",
    "* 19\n",
    "* 17\n",
    "* 10\n",
    "* 20"
   ]
  },
  {
   "cell_type": "code",
   "execution_count": 19,
   "metadata": {},
   "outputs": [
    {
     "name": "stdout",
     "output_type": "stream",
     "text": [
      "import argparse\n",
      "import os\n",
      "import pickle\n",
      "\n",
      "from sklearn.ensemble import RandomForestRegressor\n",
      "from sklearn.metrics import mean_squared_error\n",
      "\n",
      "import mlflow\n",
      "\n",
      "def load_pickle(filename: str):\n",
      "    with open(filename, \"rb\") as f_in:\n",
      "        return pickle.load(f_in)\n",
      "\n",
      "\n",
      "def run(data_path):\n",
      "\n",
      "    # start mlflow\n",
      "    with mlflow.start_run():\n",
      "        # use autolog\n",
      "        mlflow.sklearn.autolog()\n",
      "\n",
      "        X_train, y_train = load_pickle(os.path.join(data_path, \"train.pkl\"))\n",
      "        X_valid, y_valid = load_pickle(os.path.join(data_path, \"valid.pkl\"))\n",
      "\n",
      "        rf = RandomForestRegressor(max_depth=10, random_state=0)\n",
      "        rf.fit(X_train, y_train)\n",
      "        y_pred = rf.predict(X_valid)\n",
      "\n",
      "        rmse = mean_squared_error(y_valid, y_pred, squared=False)\n",
      "\n",
      "\n",
      "if __name__ == '__main__':\n",
      "\n",
      "    # Setting the tracking_uri for mlflow\n",
      "    mlflow.set_tracking_uri(\"sqlite:///..//mlflow.db\")\n",
      "\n",
      "    # Create a new experiment for green_taxi\n",
      "    mlflow.set_experiment(\"green-taxi_experiment\")\n",
      "\n",
      "    parser = argparse.ArgumentParser()\n",
      "    parser.add_argument(\n",
      "        \"--data_path\",\n",
      "        default=\"./output\",\n",
      "        help=\"the location where the processed NYC taxi trip data was saved.\"\n",
      "    )\n",
      "    args = parser.parse_args()\n",
      "\n",
      "    run(args.data_path)\n"
     ]
    }
   ],
   "source": [
    "# Modified `train.py` to enable autologging in MLflow\n",
    "!cat train.py"
   ]
  },
  {
   "cell_type": "code",
   "execution_count": 20,
   "metadata": {},
   "outputs": [
    {
     "name": "stdout",
     "output_type": "stream",
     "text": [
      "2022/06/02 08:51:28 INFO mlflow.tracking.fluent: Experiment with name 'green-taxi_experiment' does not exist. Creating a new experiment.\n",
      "2022/06/02 08:51:28 WARNING mlflow.utils.autologging_utils: You are using an unsupported version of sklearn. If you encounter errors during autologging, try upgrading / downgrading sklearn to a supported version, or try upgrading MLflow.\n",
      "2022/06/02 08:51:51 WARNING mlflow.utils.autologging_utils: MLflow autologging encountered a warning: \"/home/bengsoon/anaconda3/envs/exp-tracking-env/lib/python3.9/site-packages/_distutils_hack/__init__.py:30: UserWarning: Setuptools is replacing distutils.\"\n"
     ]
    }
   ],
   "source": [
    "!python train.py"
   ]
  },
  {
   "cell_type": "code",
   "execution_count": 21,
   "metadata": {},
   "outputs": [],
   "source": [
    "from mlflow.tracking import MlflowClient\n",
    "\n",
    "TRACKING_URI = \"sqlite:///..//mlflow.db\"\n",
    "\n",
    "client = MlflowClient(tracking_uri=TRACKING_URI)"
   ]
  },
  {
   "cell_type": "code",
   "execution_count": 26,
   "metadata": {},
   "outputs": [
    {
     "data": {
      "text/plain": [
       "[<Experiment: artifact_location='./mlruns/2', experiment_id='2', lifecycle_stage='active', name='nyc-taxi-experiment', tags={}>,\n",
       " <Experiment: artifact_location='./mlruns/4', experiment_id='4', lifecycle_stage='active', name='test', tags={}>,\n",
       " <Experiment: artifact_location='./mlruns/5', experiment_id='5', lifecycle_stage='active', name='green-taxi_experiment', tags={}>]"
      ]
     },
     "execution_count": 26,
     "metadata": {},
     "output_type": "execute_result"
    }
   ],
   "source": [
    "client.list_experiments()"
   ]
  },
  {
   "cell_type": "code",
   "execution_count": 27,
   "metadata": {},
   "outputs": [
    {
     "data": {
      "text/plain": [
       "[<Run: data=<RunData: metrics={'training_mae': 3.9579721044559886,\n",
       "  'training_mse': 32.842658732583544,\n",
       "  'training_r2_score': 0.7543646399020425,\n",
       "  'training_rmse': 5.73085148408014,\n",
       "  'training_score': 0.7543646399020425}, params={'bootstrap': 'True',\n",
       "  'ccp_alpha': '0.0',\n",
       "  'criterion': 'squared_error',\n",
       "  'max_depth': '10',\n",
       "  'max_features': '1.0',\n",
       "  'max_leaf_nodes': 'None',\n",
       "  'max_samples': 'None',\n",
       "  'min_impurity_decrease': '0.0',\n",
       "  'min_samples_leaf': '1',\n",
       "  'min_samples_split': '2',\n",
       "  'min_weight_fraction_leaf': '0.0',\n",
       "  'n_estimators': '100',\n",
       "  'n_jobs': 'None',\n",
       "  'oob_score': 'False',\n",
       "  'random_state': '0',\n",
       "  'verbose': '0',\n",
       "  'warm_start': 'False'}, tags={'estimator_class': 'sklearn.ensemble._forest.RandomForestRegressor',\n",
       "  'estimator_name': 'RandomForestRegressor',\n",
       "  'mlflow.log-model.history': '[{\"run_id\": \"bbee2bd09cd94b88855f0e2b0bb96ca3\", '\n",
       "                              '\"artifact_path\": \"model\", \"utc_time_created\": '\n",
       "                              '\"2022-06-02 00:51:49.090235\", \"flavors\": '\n",
       "                              '{\"python_function\": {\"model_path\": \"model.pkl\", '\n",
       "                              '\"loader_module\": \"mlflow.sklearn\", '\n",
       "                              '\"python_version\": \"3.9.12\", \"env\": '\n",
       "                              '\"conda.yaml\"}, \"sklearn\": {\"pickled_model\": '\n",
       "                              '\"model.pkl\", \"sklearn_version\": \"1.1.1\", '\n",
       "                              '\"serialization_format\": \"cloudpickle\", \"code\": '\n",
       "                              'null}}, \"model_uuid\": '\n",
       "                              '\"8fa80453525a42f9a518967c5858b193\", '\n",
       "                              '\"mlflow_version\": \"1.26.0\", \"signature\": '\n",
       "                              '{\"inputs\": \"[{\\\\\"type\\\\\": \\\\\"tensor\\\\\", '\n",
       "                              '\\\\\"tensor-spec\\\\\": {\\\\\"dtype\\\\\": \\\\\"float64\\\\\", '\n",
       "                              '\\\\\"shape\\\\\": [-1, 13221]}}]\", \"outputs\": '\n",
       "                              '\"[{\\\\\"type\\\\\": \\\\\"tensor\\\\\", \\\\\"tensor-spec\\\\\": '\n",
       "                              '{\\\\\"dtype\\\\\": \\\\\"float64\\\\\", \\\\\"shape\\\\\": '\n",
       "                              '[-1]}}]\"}}]',\n",
       "  'mlflow.source.git.commit': '73b40d97b3c61062abbf852edd7850900f22b55e',\n",
       "  'mlflow.source.name': 'train.py',\n",
       "  'mlflow.source.type': 'LOCAL',\n",
       "  'mlflow.user': 'bengsoon'}>, info=<RunInfo: artifact_uri='./mlruns/5/bbee2bd09cd94b88855f0e2b0bb96ca3/artifacts', end_time=1654131112104, experiment_id='5', lifecycle_stage='active', run_id='bbee2bd09cd94b88855f0e2b0bb96ca3', run_uuid='bbee2bd09cd94b88855f0e2b0bb96ca3', start_time=1654131088814, status='FINISHED', user_id='bengsoon'>>]"
      ]
     },
     "execution_count": 27,
     "metadata": {},
     "output_type": "execute_result"
    }
   ],
   "source": [
    "client.search_runs(experiment_ids=5)"
   ]
  },
  {
   "cell_type": "code",
   "execution_count": 28,
   "metadata": {},
   "outputs": [],
   "source": [
    "RUN_ID = \"bbee2bd09cd94b88855f0e2b0bb96ca3\"\n",
    "\n",
    "run = client.get_run(run_id=RUN_ID)"
   ]
  },
  {
   "cell_type": "markdown",
   "metadata": {},
   "source": [
    "Here are all the parameters that were autologged by MLflow"
   ]
  },
  {
   "cell_type": "code",
   "execution_count": 31,
   "metadata": {},
   "outputs": [
    {
     "data": {
      "text/plain": [
       "{'bootstrap': 'True',\n",
       " 'ccp_alpha': '0.0',\n",
       " 'criterion': 'squared_error',\n",
       " 'max_depth': '10',\n",
       " 'max_features': '1.0',\n",
       " 'max_leaf_nodes': 'None',\n",
       " 'max_samples': 'None',\n",
       " 'min_impurity_decrease': '0.0',\n",
       " 'min_samples_leaf': '1',\n",
       " 'min_samples_split': '2',\n",
       " 'min_weight_fraction_leaf': '0.0',\n",
       " 'n_estimators': '100',\n",
       " 'n_jobs': 'None',\n",
       " 'oob_score': 'False',\n",
       " 'random_state': '0',\n",
       " 'verbose': '0',\n",
       " 'warm_start': 'False'}"
      ]
     },
     "execution_count": 31,
     "metadata": {},
     "output_type": "execute_result"
    }
   ],
   "source": [
    "run.data.params"
   ]
  },
  {
   "cell_type": "code",
   "execution_count": 32,
   "metadata": {},
   "outputs": [
    {
     "data": {
      "text/plain": [
       "17"
      ]
     },
     "execution_count": 32,
     "metadata": {},
     "output_type": "execute_result"
    }
   ],
   "source": [
    "len(run.data.params)"
   ]
  },
  {
   "cell_type": "markdown",
   "metadata": {},
   "source": [
    "#### Answer \n",
    "> There are **17 parameters** logged with `autolog`"
   ]
  },
  {
   "cell_type": "markdown",
   "metadata": {},
   "source": [
    "## Q4. Launch the tracking server locally\n",
    "\n",
    "We want to manage the entire lifecycle of our ML model. In this step, you'll need to launch a tracking server. This way we will also have access to the model registry. \n",
    "\n",
    "Your task is to\n",
    "\n",
    "* launch the tracking server on your local machine\n",
    "* select a SQLite db for the backend store and a folder called `artifacts` for the artifacts store\n",
    "\n",
    "You should keep the tracking server running to work on the next two exercises that use the server.\n",
    "\n",
    "In addition to `backend-store-uri`, what else do you need to pass to properly configure the server?\n",
    "\n",
    "* `default-artifact-root`\n",
    "* `serve-artifacts`\n",
    "* `artifacts-only`\n",
    "* `artifacts-destination`\n"
   ]
  },
  {
   "cell_type": "code",
   "execution_count": 35,
   "metadata": {},
   "outputs": [
    {
     "name": "stdout",
     "output_type": "stream",
     "text": [
      "Usage: mlflow server [OPTIONS]\n",
      "\n",
      "  Run the MLflow tracking server.\n",
      "\n",
      "  The server listens on http://localhost:5000 by default and only accepts\n",
      "  connections from the local machine. To let the server accept connections\n",
      "  from other machines, you will need to pass ``--host 0.0.0.0`` to listen on\n",
      "  all network interfaces (or a specific interface address).\n",
      "\n",
      "Options:\n",
      "  --backend-store-uri PATH     URI to which to persist experiment and run\n",
      "                               data. Acceptable URIs are SQLAlchemy-compatible\n",
      "                               database connection strings (e.g.\n",
      "                               'sqlite:///path/to/file.db') or local\n",
      "                               filesystem URIs (e.g.\n",
      "                               'file:///absolute/path/to/directory'). By\n",
      "                               default, data will be logged to the ./mlruns\n",
      "                               directory.\n",
      "  --default-artifact-root URI  Directory in which to store artifacts for any\n",
      "                               new experiments created. For tracking server\n",
      "                               backends that rely on SQL, this option is\n",
      "                               required in order to store artifacts. Note that\n",
      "                               this flag does not impact already-created\n",
      "                               experiments with any previous configuration of\n",
      "                               an MLflow server instance. By default, data\n",
      "                               will be logged to the mlflow-artifacts:/ uri\n",
      "                               proxy if the --serve-artifacts option is\n",
      "                               enabled. Otherwise, the default location will\n",
      "                               be ./mlruns.\n",
      "  --serve-artifacts            If specified, enables serving of artifact\n",
      "                               uploads, downloads, and list requests by\n",
      "                               routing these requests to the storage location\n",
      "                               that is specified by '--artifact-destination'\n",
      "                               directly through a proxy. The default location\n",
      "                               that these requests are served from is a local\n",
      "                               './mlartifacts' directory which can be\n",
      "                               overridden via the '--artifacts-destination'\n",
      "                               argument. Default: False\n",
      "  --artifacts-only             If specified, configures the mlflow server to\n",
      "                               be used only for proxied artifact serving. With\n",
      "                               this mode enabled, functionality of the mlflow\n",
      "                               tracking service (e.g. run creation, metric\n",
      "                               logging, and parameter logging) is disabled.\n",
      "                               The server will only expose endpoints for\n",
      "                               uploading, downloading, and listing artifacts.\n",
      "                               Default: False\n",
      "  --artifacts-destination URI  The base artifact location from which to\n",
      "                               resolve artifact upload/download/list requests\n",
      "                               (e.g. 's3://my-bucket'). Defaults to a local\n",
      "                               './mlartifacts' directory. This option only\n",
      "                               applies when the tracking server is configured\n",
      "                               to stream artifacts and the experiment's\n",
      "                               artifact root location is http or mlflow-\n",
      "                               artifacts URI.\n",
      "  -h, --host HOST              The network address to listen on (default:\n",
      "                               127.0.0.1). Use 0.0.0.0 to bind to all\n",
      "                               addresses if you want to access the tracking\n",
      "                               server from other machines.\n",
      "  -p, --port INTEGER           The port to listen on (default: 5000).\n",
      "  -w, --workers TEXT           Number of gunicorn worker processes to handle\n",
      "                               requests (default: 4).\n",
      "  --static-prefix TEXT         A prefix which will be prepended to the path of\n",
      "                               all static paths.\n",
      "  --gunicorn-opts TEXT         Additional command line options forwarded to\n",
      "                               gunicorn processes.\n",
      "  --waitress-opts TEXT         Additional command line options for waitress-\n",
      "                               serve.\n",
      "  --expose-prometheus TEXT     Path to the directory where metrics will be\n",
      "                               stored. If the directory doesn't exist, it will\n",
      "                               be created. Activate prometheus exporter to\n",
      "                               expose metrics on /metrics endpoint.\n",
      "  --help                       Show this message and exit.\n"
     ]
    }
   ],
   "source": [
    "!mlflow server --help"
   ]
  },
  {
   "cell_type": "markdown",
   "metadata": {},
   "source": [
    "![](./img/q4_mlflow_tracking_server.png)"
   ]
  },
  {
   "cell_type": "markdown",
   "metadata": {},
   "source": [
    "#### Answer\n",
    "> **`--default-artifact-root `** to change the default location of the artifacts location\n",
    ">  - `--serve-artifacts` is to enable the requests to be done through a proxy\n",
    ">  - `--artifacts-only` is an option to configure the mlflow server to be used only for proxied artifact serving\n",
    ">  - `--artifacts-destination` only applies to the tracking server that is serving through \"http\" or \"mlflow-artifacts URI\"\n",
    "\n",
    "Reference: https://www.mlflow.org/docs/latest/tracking.html"
   ]
  },
  {
   "cell_type": "markdown",
   "metadata": {},
   "source": [
    "## Q5. Tune the hyperparameters of the model\n",
    "\n",
    "Now let's try to reduce the validation error by tuning the hyperparameters of the random forest regressor using `hyperopt`.\n",
    "\n",
    "We have prepared the script `hpo.py` for this exercise. \n",
    "\n",
    "Your task is to modify the script `hpo.py` and make sure that the validation RMSE is logged to MLflow for each run of the hyperparameter optimization (you will need to add a few lines of code to the `objective` function) and run the script without passing any parameters.\n",
    "\n",
    "After that, open the MLflow UI and explore the runs from the experiment called `random-forest-hyperopt` to answer the question below.\n",
    "\n",
    "Important: don't use autologging for this exercise.\n",
    "\n",
    "The idea is to just log the information that you need to answer the question below, including:\n",
    "\n",
    "* the list of hyperparameters that are passed to the `objective` function during the optimization.\n",
    "* the RMSE obtained on the validation set (February 2021 data).\n",
    "\n",
    "What's the best validation RMSE that you got?\n",
    "\n",
    "* 6.128\n",
    "* 6.628\n",
    "* 7.128\n",
    "* 7.628"
   ]
  },
  {
   "cell_type": "code",
   "execution_count": 39,
   "metadata": {},
   "outputs": [
    {
     "name": "stdout",
     "output_type": "stream",
     "text": [
      "import argparse\n",
      "import os\n",
      "import pickle\n",
      "\n",
      "import mlflow\n",
      "import numpy as np\n",
      "from hyperopt import STATUS_OK, Trials, fmin, hp, tpe\n",
      "from hyperopt.pyll import scope\n",
      "from sklearn.ensemble import RandomForestRegressor\n",
      "from sklearn.metrics import mean_squared_error\n",
      "\n",
      "mlflow.set_tracking_uri(\"http://127.0.0.1:5000\")\n",
      "mlflow.set_experiment(\"random-forest-hyperopt\")\n",
      "\n",
      "\n",
      "def load_pickle(filename):\n",
      "    with open(filename, \"rb\") as f_in:\n",
      "        return pickle.load(f_in)\n",
      "\n",
      "\n",
      "def run(data_path, num_trials):\n",
      "\n",
      "    X_train, y_train = load_pickle(os.path.join(data_path, \"train.pkl\"))\n",
      "    X_valid, y_valid = load_pickle(os.path.join(data_path, \"valid.pkl\"))\n",
      "\n",
      "    def objective(params):\n",
      "\n",
      "        with mlflow.start_run():\n",
      "            # log the \"model\" tag \n",
      "            mlflow.set_tag(\"model\", \"random-forest\")  \n",
      "\n",
      "            # log all the hyperparameters that got passed into this function\n",
      "            mlflow.log_params(params)\n",
      "\n",
      "            rf = RandomForestRegressor(**params)\n",
      "            rf.fit(X_train, y_train)\n",
      "            y_pred = rf.predict(X_valid)\n",
      "\n",
      "            rmse = mean_squared_error(y_valid, y_pred, squared=False)\n",
      "            # log rmse\n",
      "            mlflow.log_metric(\"rmse\", rmse)\n",
      "\n",
      "        return {'loss': rmse, 'status': STATUS_OK}\n",
      "\n",
      "    search_space = {\n",
      "        'max_depth': scope.int(hp.quniform('max_depth', 1, 20, 1)),\n",
      "        'n_estimators': scope.int(hp.quniform('n_estimators', 10, 50, 1)),\n",
      "        'min_samples_split': scope.int(hp.quniform('min_samples_split', 2, 10, 1)),\n",
      "        'min_samples_leaf': scope.int(hp.quniform('min_samples_leaf', 1, 4, 1)),\n",
      "        'random_state': 42\n",
      "    }\n",
      "\n",
      "    rstate = np.random.default_rng(42)  # for reproducible results\n",
      "    fmin(\n",
      "        fn=objective,\n",
      "        space=search_space,\n",
      "        algo=tpe.suggest,\n",
      "        max_evals=num_trials,\n",
      "        trials=Trials(),\n",
      "        rstate=rstate\n",
      "    )\n",
      "\n",
      "\n",
      "if __name__ == '__main__':\n",
      "\n",
      "    parser = argparse.ArgumentParser()\n",
      "    parser.add_argument(\n",
      "        \"--data_path\",\n",
      "        default=\"./output\",\n",
      "        help=\"the location where the processed NYC taxi trip data was saved.\"\n",
      "    )\n",
      "    parser.add_argument(\n",
      "        \"--max_evals\",\n",
      "        type=int,\n",
      "        default=50,\n",
      "        help=\"the number of parameter evaluations for the optimizer to explore.\"\n",
      "    )\n",
      "    args = parser.parse_args()\n",
      "\n",
      "    run(args.data_path, args.max_evals)\n"
     ]
    }
   ],
   "source": [
    "# added a few lines of code to enable mlflow logging for the `objective` function\n",
    "!cat hpo.py"
   ]
  },
  {
   "cell_type": "code",
   "execution_count": 43,
   "metadata": {},
   "outputs": [
    {
     "name": "stdout",
     "output_type": "stream",
     "text": [
      "2022/06/02 09:54:17 INFO mlflow.tracking.fluent: Experiment with name 'random-forest-hyperopt' does not exist. Creating a new experiment.\n",
      "100%|█████████| 50/50 [07:53<00:00,  9.47s/trial, best loss: 6.6284257482044735]\n"
     ]
    }
   ],
   "source": [
    "# run the hpo.py\n",
    "\n",
    "!python hpo.py"
   ]
  },
  {
   "cell_type": "code",
   "execution_count": 45,
   "metadata": {},
   "outputs": [
    {
     "data": {
      "text/plain": [
       "[<Experiment: artifact_location='./mlruns/2', experiment_id='2', lifecycle_stage='active', name='nyc-taxi-experiment', tags={}>,\n",
       " <Experiment: artifact_location='./mlruns/4', experiment_id='4', lifecycle_stage='active', name='test', tags={}>,\n",
       " <Experiment: artifact_location='./mlruns/5', experiment_id='5', lifecycle_stage='active', name='green-taxi_experiment', tags={}>,\n",
       " <Experiment: artifact_location='./mlruns/6', experiment_id='6', lifecycle_stage='active', name='random-forest-hyperopt', tags={}>]"
      ]
     },
     "execution_count": 45,
     "metadata": {},
     "output_type": "execute_result"
    }
   ],
   "source": [
    "client.list_experiments()"
   ]
  },
  {
   "cell_type": "code",
   "execution_count": 51,
   "metadata": {},
   "outputs": [],
   "source": [
    "best_runs = client.search_runs(\n",
    "    experiment_ids=6,\n",
    "    filter_string=\"\",\n",
    "    max_results=3,\n",
    "    order_by=[\"metrics.rmse ASC\"]\n",
    ")"
   ]
  },
  {
   "cell_type": "code",
   "execution_count": 54,
   "metadata": {},
   "outputs": [
    {
     "name": "stdout",
     "output_type": "stream",
     "text": [
      "run id: 1f239884901c4405b4983eb624d40568, rmse: 6.6284\n",
      "run id: c5f768f369974570bead026a3a3d69cc, rmse: 6.6297\n",
      "run id: 3c470f375e7845e9aebe2ab61a7e8f8a, rmse: 6.6299\n"
     ]
    }
   ],
   "source": [
    "for run in best_runs:\n",
    "    print(f\"run id: {run.info.run_id}, rmse: {run.data.metrics['rmse']:.4f}\")"
   ]
  },
  {
   "cell_type": "markdown",
   "metadata": {},
   "source": [
    "#### Answer\n",
    "> Best Validation Run RMSE: **6.6284**"
   ]
  },
  {
   "cell_type": "markdown",
   "metadata": {},
   "source": [
    "## Q6. Promote the best model to the model registry\n",
    "\n",
    "The results from the hyperparameter optimization are quite good so we can assume that we are ready to test some of these models in production. In this exercise, you'll promote the best model to the model registry. We have prepared a script called `register_model.py`, which will check the results from the previous step and select the top 5 runs. After that, it will calculate the RMSE of those models on the test set (March 2021 data) and save the results to a new experiment called `random-forest-best-models`.\n",
    "\n",
    "Your task is to update the script `register_model.py` so that it selects the model with the lowest RMSE on the test set and registers it to the model registry.\n",
    "\n",
    "Tip 1: you can use the method `search_runs` from the `MlflowClient` to get the model with the lowest RMSE.\n",
    "Tip 2: to register the model you can use the method `mlflow.register_model` and you will need to pass the right model_uri in the form of a string that looks like this: `\"runs:/<RUN_ID>/model\"`, and the name of the model (make sure to choose a good one!).\n",
    "\n",
    "What is the test RMSE of the best model?\n",
    "\n",
    "* 6.1\n",
    "* 6.55\n",
    "* 7.93\n",
    "* 15.1"
   ]
  },
  {
   "cell_type": "code",
   "execution_count": 56,
   "metadata": {},
   "outputs": [
    {
     "name": "stdout",
     "output_type": "stream",
     "text": [
      "import argparse\n",
      "import os\n",
      "import pickle\n",
      "\n",
      "import mlflow\n",
      "from hyperopt import hp, space_eval\n",
      "from hyperopt.pyll import scope\n",
      "from mlflow.entities import ViewType\n",
      "from mlflow.tracking import MlflowClient\n",
      "from sklearn.ensemble import RandomForestRegressor\n",
      "from sklearn.metrics import mean_squared_error\n",
      "\n",
      "HPO_EXPERIMENT_NAME = \"random-forest-hyperopt\"\n",
      "EXPERIMENT_NAME = \"random-forest-best-models\"\n",
      "\n",
      "mlflow.set_tracking_uri(\"sqlite:///../mlflow.db\")\n",
      "mlflow.set_experiment(EXPERIMENT_NAME)\n",
      "mlflow.sklearn.autolog()\n",
      "\n",
      "SPACE = {\n",
      "    'max_depth': scope.int(hp.quniform('max_depth', 1, 20, 1)),\n",
      "    'n_estimators': scope.int(hp.quniform('n_estimators', 10, 50, 1)),\n",
      "    'min_samples_split': scope.int(hp.quniform('min_samples_split', 2, 10, 1)),\n",
      "    'min_samples_leaf': scope.int(hp.quniform('min_samples_leaf', 1, 4, 1)),\n",
      "    'random_state': 42\n",
      "}\n",
      "\n",
      "\n",
      "def load_pickle(filename):\n",
      "    with open(filename, \"rb\") as f_in:\n",
      "        return pickle.load(f_in)\n",
      "\n",
      "\n",
      "def train_and_log_model(data_path, params):\n",
      "    X_train, y_train = load_pickle(os.path.join(data_path, \"train.pkl\"))\n",
      "    X_valid, y_valid = load_pickle(os.path.join(data_path, \"valid.pkl\"))\n",
      "    X_test, y_test = load_pickle(os.path.join(data_path, \"test.pkl\"))\n",
      "\n",
      "    with mlflow.start_run():\n",
      "        params = space_eval(SPACE, params)\n",
      "        rf = RandomForestRegressor(**params)\n",
      "        rf.fit(X_train, y_train)\n",
      "\n",
      "        # evaluate model on the validation and test sets\n",
      "        valid_rmse = mean_squared_error(y_valid, rf.predict(X_valid), squared=False)\n",
      "        mlflow.log_metric(\"valid_rmse\", valid_rmse)\n",
      "        test_rmse = mean_squared_error(y_test, rf.predict(X_test), squared=False)\n",
      "        mlflow.log_metric(\"test_rmse\", test_rmse)\n",
      "\n",
      "\n",
      "def run(data_path, log_top):\n",
      "\n",
      "    client = MlflowClient()\n",
      "\n",
      "    # retrieve the top_n model runs and log the models to MLflow\n",
      "    experiment = client.get_experiment_by_name(HPO_EXPERIMENT_NAME)\n",
      "    runs = client.search_runs(\n",
      "        experiment_ids=experiment.experiment_id,\n",
      "        run_view_type=ViewType.ACTIVE_ONLY,\n",
      "        max_results=log_top,\n",
      "        order_by=[\"metrics.rmse ASC\"]\n",
      "    )\n",
      "    for run in runs:\n",
      "        train_and_log_model(data_path=data_path, params=run.data.params)\n",
      "\n",
      "    # select the model with the lowest test RMSE\n",
      "    experiment = client.get_experiment_by_name(EXPERIMENT_NAME)\n",
      "    best_run = client.search_runs(\n",
      "        experiment_ids=experiment.experiment_id,\n",
      "        run_view_type=ViewType.ACTIVE_ONLY,\n",
      "        max_results=1,\n",
      "        order_by=[\"metrics.rmse ASC\"]\n",
      "    )[0]\n",
      "\n",
      "    # register the best model\n",
      "    run_id = best_run.info.run_id\n",
      "    model_uri = f\"runs:/{run_id}/model\"\n",
      "    mlflow.register_model(model_uri = model_uri, name=\"greentaxi_regressor\")\n",
      "\n",
      "\n",
      "if __name__ == '__main__':\n",
      "\n",
      "    parser = argparse.ArgumentParser()\n",
      "    parser.add_argument(\n",
      "        \"--data_path\",\n",
      "        default=\"./output\",\n",
      "        help=\"the location where the processed NYC taxi trip data was saved.\"\n",
      "    )\n",
      "    parser.add_argument(\n",
      "        \"--top_n\",\n",
      "        default=5,\n",
      "        type=int,\n",
      "        help=\"the top 'top_n' models will be evaluated to decide which model to promote.\"\n",
      "    )\n",
      "    args = parser.parse_args()\n",
      "\n",
      "    run(args.data_path, args.top_n)\n"
     ]
    }
   ],
   "source": [
    "# Updated register_model.py so that it selects the model with the lowest RMSE on the test set\n",
    "!cat register_model.py"
   ]
  },
  {
   "cell_type": "code",
   "execution_count": 57,
   "metadata": {},
   "outputs": [
    {
     "name": "stdout",
     "output_type": "stream",
     "text": [
      "2022/06/02 10:24:46 INFO mlflow.tracking.fluent: Experiment with name 'random-forest-best-models' does not exist. Creating a new experiment.\n",
      "2022/06/02 10:24:46 WARNING mlflow.utils.autologging_utils: You are using an unsupported version of sklearn. If you encounter errors during autologging, try upgrading / downgrading sklearn to a supported version, or try upgrading MLflow.\n",
      "2022/06/02 10:25:06 WARNING mlflow.utils.autologging_utils: MLflow autologging encountered a warning: \"/home/bengsoon/anaconda3/envs/exp-tracking-env/lib/python3.9/site-packages/_distutils_hack/__init__.py:30: UserWarning: Setuptools is replacing distutils.\"\n",
      "Successfully registered model 'greentaxi_regressor'.\n",
      "2022/06/02 10:26:32 INFO mlflow.tracking._model_registry.client: Waiting up to 300 seconds for model version to finish creation.                     Model name: greentaxi_regressor, version 1\n",
      "Created version '1' of model 'greentaxi_regressor'.\n"
     ]
    }
   ],
   "source": [
    "!python register_model.py"
   ]
  },
  {
   "cell_type": "code",
   "execution_count": 63,
   "metadata": {},
   "outputs": [],
   "source": [
    "# get run_id from version 1 of 'greentaxi_regressor'\n",
    "\n",
    "version_1_run_id = client.get_model_version(name = \"greentaxi_regressor\", version = 1).run_id\n",
    "run_ver1 = client.get_run(run_id=version_1_run_id)"
   ]
  },
  {
   "cell_type": "code",
   "execution_count": 71,
   "metadata": {},
   "outputs": [
    {
     "name": "stdout",
     "output_type": "stream",
     "text": [
      "Version 1 Test RMSE: 6.55\n"
     ]
    }
   ],
   "source": [
    "print(f\"Version 1 Test RMSE: {round(run_ver1.data.metrics['test_rmse'],2)}\")"
   ]
  },
  {
   "cell_type": "markdown",
   "metadata": {},
   "source": [
    "#### Answer\n",
    "> Version 1 Test RMSE: **6.55**"
   ]
  }
 ],
 "metadata": {
  "interpreter": {
   "hash": "3138a74a0e831facd5d171c3d30a68c8b8bd6a41264493b22bbf656e782db592"
  },
  "kernelspec": {
   "display_name": "Python 3.9.12 ('exp-tracking-env')",
   "language": "python",
   "name": "python3"
  },
  "language_info": {
   "codemirror_mode": {
    "name": "ipython",
    "version": 3
   },
   "file_extension": ".py",
   "mimetype": "text/x-python",
   "name": "python",
   "nbconvert_exporter": "python",
   "pygments_lexer": "ipython3",
   "version": "3.9.12"
  },
  "orig_nbformat": 4
 },
 "nbformat": 4,
 "nbformat_minor": 2
}
